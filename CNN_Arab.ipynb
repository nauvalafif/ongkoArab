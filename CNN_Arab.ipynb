{
  "nbformat": 4,
  "nbformat_minor": 0,
  "metadata": {
    "kernelspec": {
      "display_name": "Python [conda env:tensorflow] *",
      "language": "python",
      "name": "conda-env-tensorflow-py"
    },
    "language_info": {
      "codemirror_mode": {
        "name": "ipython",
        "version": 3
      },
      "file_extension": ".py",
      "mimetype": "text/x-python",
      "name": "python",
      "nbconvert_exporter": "python",
      "pygments_lexer": "ipython3",
      "version": "3.6.8"
    },
    "colab": {
      "name": "CNN_Arab.ipynb",
      "provenance": [],
      "toc_visible": true,
      "include_colab_link": true
    }
  },
  "cells": [
    {
      "cell_type": "markdown",
      "metadata": {
        "id": "view-in-github",
        "colab_type": "text"
      },
      "source": [
        "<a href=\"https://colab.research.google.com/github/nauvalafif/ongkoArab/blob/master/CNN_Arab.ipynb\" target=\"_parent\"><img src=\"https://colab.research.google.com/assets/colab-badge.svg\" alt=\"Open In Colab\"/></a>"
      ]
    },
    {
      "cell_type": "markdown",
      "metadata": {
        "id": "2oyaQtUchXPe",
        "colab_type": "text"
      },
      "source": [
        "# Model CNN Tensorflow\n",
        "\n",
        "Cara mempersiapkan data MNIST, membuat network CNN, dan melakukan training dengan tensorflow-keras"
      ]
    },
    {
      "cell_type": "markdown",
      "metadata": {
        "id": "f-tN8GtJhXPh",
        "colab_type": "text"
      },
      "source": [
        "## 1. Import library yang dibutuhkan"
      ]
    },
    {
      "cell_type": "code",
      "metadata": {
        "id": "X3mTMce8hXPi",
        "colab_type": "code",
        "colab": {
          "base_uri": "https://localhost:8080/",
          "height": 365
        },
        "outputId": "10239d5f-ba6f-4129-d4ab-a5aedac496bf"
      },
      "source": [
        "!pip install keract\n",
        "\n",
        "import tensorflow as tf\n",
        "import numpy as np\n",
        "import h5py\n",
        "%matplotlib inline \n",
        "import matplotlib.pyplot as plt\n",
        "from matplotlib.image import imread\n",
        "import math\n",
        "\n",
        "from tensorflow.keras import layers\n",
        "import matplotlib.pyplot as plt\n",
        "from tensorflow.python.keras.models import Sequential\n",
        "import tensorflow.python.keras\n",
        "import tensorflow.contrib.keras as keras\n",
        "from keras.utils import to_categorical\n",
        "\n",
        "import pandas as pd\n",
        "import os"
      ],
      "execution_count": 1,
      "outputs": [
        {
          "output_type": "stream",
          "text": [
            "Requirement already satisfied: keract in /usr/local/lib/python3.6/dist-packages (2.8.4)\n",
            "Requirement already satisfied: numpy>=1.16.2 in /usr/local/lib/python3.6/dist-packages (from keract) (1.17.4)\n",
            "Requirement already satisfied: keras>=2.3.1 in /usr/local/lib/python3.6/dist-packages (from keract) (2.3.1)\n",
            "Requirement already satisfied: keras-applications>=1.0.6 in /usr/local/lib/python3.6/dist-packages (from keras>=2.3.1->keract) (1.0.8)\n",
            "Requirement already satisfied: scipy>=0.14 in /usr/local/lib/python3.6/dist-packages (from keras>=2.3.1->keract) (1.3.2)\n",
            "Requirement already satisfied: pyyaml in /usr/local/lib/python3.6/dist-packages (from keras>=2.3.1->keract) (3.13)\n",
            "Requirement already satisfied: six>=1.9.0 in /usr/local/lib/python3.6/dist-packages (from keras>=2.3.1->keract) (1.12.0)\n",
            "Requirement already satisfied: h5py in /usr/local/lib/python3.6/dist-packages (from keras>=2.3.1->keract) (2.8.0)\n",
            "Requirement already satisfied: keras-preprocessing>=1.0.5 in /usr/local/lib/python3.6/dist-packages (from keras>=2.3.1->keract) (1.1.0)\n"
          ],
          "name": "stdout"
        },
        {
          "output_type": "display_data",
          "data": {
            "text/html": [
              "<p style=\"color: red;\">\n",
              "The default version of TensorFlow in Colab will soon switch to TensorFlow 2.x.<br>\n",
              "We recommend you <a href=\"https://www.tensorflow.org/guide/migrate\" target=\"_blank\">upgrade</a> now \n",
              "or ensure your notebook will continue to use TensorFlow 1.x via the <code>%tensorflow_version 1.x</code> magic:\n",
              "<a href=\"https://colab.research.google.com/notebooks/tensorflow_version.ipynb\" target=\"_blank\">more info</a>.</p>\n"
            ],
            "text/plain": [
              "<IPython.core.display.HTML object>"
            ]
          },
          "metadata": {
            "tags": []
          }
        },
        {
          "output_type": "stream",
          "text": [
            "WARNING:tensorflow:\n",
            "The TensorFlow contrib module will not be included in TensorFlow 2.0.\n",
            "For more information, please see:\n",
            "  * https://github.com/tensorflow/community/blob/master/rfcs/20180907-contrib-sunset.md\n",
            "  * https://github.com/tensorflow/addons\n",
            "  * https://github.com/tensorflow/io (for I/O related ops)\n",
            "If you depend on functionality not listed there, please file an issue.\n",
            "\n"
          ],
          "name": "stdout"
        },
        {
          "output_type": "stream",
          "text": [
            "Using TensorFlow backend.\n"
          ],
          "name": "stderr"
        }
      ]
    },
    {
      "cell_type": "code",
      "metadata": {
        "id": "3zfuLN2IlW-s",
        "colab_type": "code",
        "colab": {}
      },
      "source": [
        "# from google.colab import drive\n",
        "# drive.mount('/content/drive')\n",
        "\n",
        "# Code to read csv file into Colaboratory:\n",
        "!pip install -U -q PyDrive\n",
        "from pydrive.auth import GoogleAuth\n",
        "from pydrive.drive import GoogleDrive\n",
        "from google.colab import auth\n",
        "from oauth2client.client import GoogleCredentials\n",
        "# Authenticate and create the PyDrive client.\n",
        "auth.authenticate_user()\n",
        "gauth = GoogleAuth()\n",
        "gauth.credentials = GoogleCredentials.get_application_default()\n",
        "drive = GoogleDrive(gauth)"
      ],
      "execution_count": 0,
      "outputs": []
    },
    {
      "cell_type": "markdown",
      "metadata": {
        "id": "_Bpdb3D9hXPm",
        "colab_type": "text"
      },
      "source": [
        "## 2. Persiapkan data mnist"
      ]
    },
    {
      "cell_type": "code",
      "metadata": {
        "id": "df9vEPMGhXPm",
        "colab_type": "code",
        "colab": {
          "base_uri": "https://localhost:8080/",
          "height": 84
        },
        "outputId": "d67dd2dd-cfd1-4057-8657-5b4ba92d23e3"
      },
      "source": [
        "#Data Arab Digit\n",
        "# train -> data untuk training\n",
        "# test -> data untuk validasi\n",
        "# x -> gambar input\n",
        "# y -> label\n",
        "\n",
        "url_y_train = 'https://raw.githubusercontent.com/nauvalafif/ongkoArab/master/csvTrainLabel%2060k%20x%201.csv'\n",
        "url_x_test = 'https://raw.githubusercontent.com/nauvalafif/ongkoArab/master/csvTestImages%2010k%20x%20784.csv'\n",
        "url_y_test = 'https://raw.githubusercontent.com/nauvalafif/ongkoArab/master/csvTestLabel%2010k%20x%201.csv'\n",
        "id_x_train = '11d5ieoSo00WxCDUU1OggXRyUBbJAs7qb'\n",
        "downloaded = drive.CreateFile({'id': id_x_train}) \n",
        "downloaded.GetContentFile('csvTrainImages 60k x 784.csv')\n",
        "\n",
        "x_train=pd.read_csv('csvTrainImages 60k x 784.csv')\n",
        "y_train=pd.read_csv(url_y_train)\n",
        "x_test=pd.read_csv(url_x_test)\n",
        "y_test=pd.read_csv(url_y_test)\n",
        "\n",
        "#img_rows, img_cols = 28, 28\n",
        "    \n",
        "#Siapkan matrix training \n",
        "\n",
        "x_train=x_train.values.reshape(x_train.shape[0], 28,28,1)\n",
        "x_test=x_test.values.reshape(x_test.shape[0],28, 28, 1)\n",
        "\n",
        "# x_train = x_train.reshape(60000, 784)\n",
        "# x_test = x_test.reshape(10000, 784)\n",
        "\n",
        "x_train = x_train.astype('float32')\n",
        "x_test = x_test.astype('float32')\n",
        "\n",
        "#x_train = x_train.reshape(x_train.shape[0], img_rows, img_cols, 1)\n",
        "#x_test = x_test.reshape(x_test.shape[0], img_rows, img_cols, 1)\n",
        "#input_shape = (img_rows, img_cols, 1)\n",
        "\n",
        "\n",
        "# print the final input shape ready for training\n",
        "print(\"Train matrix shape\", x_train.shape)\n",
        "print(\"Test matrix shape\", x_test.shape)\n",
        "\n",
        "# one-hot encoding using keras' numpy-related utilities\n",
        "# one hot encoding = index neuron dengan nilai paling tinggi menjadi hasil klasifikasi\n",
        "n_classes = 10\n",
        "print(\"Shape before one-hot encoding: \", y_train.shape)\n",
        "y_train = to_categorical(y_train, n_classes)\n",
        "y_test = to_categorical(y_test, n_classes)\n",
        "print(\"Shape after one-hot encoding: \", y_train.shape)\n",
        "\n"
      ],
      "execution_count": 3,
      "outputs": [
        {
          "output_type": "stream",
          "text": [
            "Train matrix shape (59999, 28, 28, 1)\n",
            "Test matrix shape (9999, 28, 28, 1)\n",
            "Shape before one-hot encoding:  (59999, 1)\n",
            "Shape after one-hot encoding:  (59999, 10)\n"
          ],
          "name": "stdout"
        }
      ]
    },
    {
      "cell_type": "markdown",
      "metadata": {
        "id": "pk0qRFK7hXPq",
        "colab_type": "text"
      },
      "source": [
        "## 3. Contoh gambar input"
      ]
    },
    {
      "cell_type": "code",
      "metadata": {
        "id": "W4yBYmgjhXPr",
        "colab_type": "code",
        "colab": {
          "base_uri": "https://localhost:8080/",
          "height": 282
        },
        "outputId": "8473373c-3c92-43e2-d879-d7af43e7d56c"
      },
      "source": [
        "img = x_test[1].reshape(28,28)\n",
        "plt.imshow(img)\n",
        "plt.show()\n",
        "\n",
        "print(y_test[1])"
      ],
      "execution_count": 9,
      "outputs": [
        {
          "output_type": "display_data",
          "data": {
            "image/png": "[encoded data removed]",
            "text/plain": [
              "<Figure size 432x288 with 1 Axes>"
            ]
          },
          "metadata": {
            "tags": []
          }
        },
        {
          "output_type": "stream",
          "text": [
            "[0. 0. 1. 0. 0. 0. 0. 0. 0. 0.]\n"
          ],
          "name": "stdout"
        }
      ]
    },
    {
      "cell_type": "markdown",
      "metadata": {
        "id": "fjVmPz6ShXPt",
        "colab_type": "text"
      },
      "source": [
        "## 4. Deskripsi Model\n",
        "\n",
        "stride = 0, padding = 0, tidak pakai bias.\n",
        "\n",
        "Convolution(16 filter, 3x3) -> Convolution(16 filter, 3x3) -> Neural Network(10 neuron) -> Neural Network(10 neuron)"
      ]
    },
    {
      "cell_type": "code",
      "metadata": {
        "id": "7Ljk5x7ghXPu",
        "colab_type": "code",
        "colab": {
          "base_uri": "https://localhost:8080/",
          "height": 474
        },
        "outputId": "6533830f-cc62-4b1e-e570-8f44519f3914"
      },
      "source": [
        "model = tf.keras.models.Sequential([\n",
        "  tf.keras.layers.Conv2D(16, (3,3), use_bias=False, activation=tf.nn.relu,input_shape=(28,28,1), name='layer_1'),\n",
        "  tf.keras.layers.MaxPooling2D(pool_size=(2, 2)),\n",
        "    \n",
        "  tf.keras.layers.Conv2D(16, (3,3), use_bias=False, activation=tf.nn.relu, name='layer_2'),\n",
        "  tf.keras.layers.MaxPooling2D(pool_size=(2, 2)),\n",
        "    \n",
        "  tf.keras.layers.Flatten(),\n",
        "    \n",
        "  tf.keras.layers.Dense(10, use_bias=False, activation=tf.nn.relu, name='layer_3'),\n",
        "  tf.keras.layers.Dense(10, use_bias=False, activation=tf.nn.softmax, name='layer_Output'),\n",
        "])\n",
        "model.compile(optimizer='adam',\n",
        "              loss='categorical_crossentropy',\n",
        "              metrics=['accuracy'])\n",
        "print(model.summary())\n",
        "\n"
      ],
      "execution_count": 10,
      "outputs": [
        {
          "output_type": "stream",
          "text": [
            "WARNING:tensorflow:From /usr/local/lib/python3.6/dist-packages/tensorflow_core/python/ops/resource_variable_ops.py:1630: calling BaseResourceVariable.__init__ (from tensorflow.python.ops.resource_variable_ops) with constraint is deprecated and will be removed in a future version.\n",
            "Instructions for updating:\n",
            "If using Keras pass *_constraint arguments to layers.\n",
            "Model: \"sequential\"\n",
            "_________________________________________________________________\n",
            "Layer (type)                 Output Shape              Param #   \n",
            "=================================================================\n",
            "layer_1 (Conv2D)             (None, 26, 26, 16)        144       \n",
            "_________________________________________________________________\n",
            "max_pooling2d (MaxPooling2D) (None, 13, 13, 16)        0         \n",
            "_________________________________________________________________\n",
            "layer_2 (Conv2D)             (None, 11, 11, 16)        2304      \n",
            "_________________________________________________________________\n",
            "max_pooling2d_1 (MaxPooling2 (None, 5, 5, 16)          0         \n",
            "_________________________________________________________________\n",
            "flatten (Flatten)            (None, 400)               0         \n",
            "_________________________________________________________________\n",
            "layer_3 (Dense)              (None, 10)                4000      \n",
            "_________________________________________________________________\n",
            "layer_Output (Dense)         (None, 10)                100       \n",
            "=================================================================\n",
            "Total params: 6,548\n",
            "Trainable params: 6,548\n",
            "Non-trainable params: 0\n",
            "_________________________________________________________________\n",
            "None\n"
          ],
          "name": "stdout"
        }
      ]
    },
    {
      "cell_type": "markdown",
      "metadata": {
        "id": "wWHi9bE5hXPx",
        "colab_type": "text"
      },
      "source": [
        "# 5. Training Model"
      ]
    },
    {
      "cell_type": "code",
      "metadata": {
        "id": "z4OhY0AVhXPx",
        "colab_type": "code",
        "colab": {
          "base_uri": "https://localhost:8080/",
          "height": 694
        },
        "outputId": "62136d0e-4d37-4b67-d827-8eba5e062ed6"
      },
      "source": [
        "# training the model and saving metrics in history\n",
        "history = model.fit(x_train, y_train,\n",
        "          batch_size=128, epochs=3,\n",
        "          verbose=1,\n",
        "          validation_data=(x_test, y_test))\n",
        "\n",
        "\n",
        "# plotting the metrics\n",
        "fig = plt.figure()\n",
        "plt.subplot(2,1,1)\n",
        "plt.plot(history.history['acc'])\n",
        "plt.plot(history.history['val_acc'])\n",
        "plt.title('model accuracy')\n",
        "plt.ylabel('accuracy')\n",
        "plt.xlabel('epoch')\n",
        "plt.legend(['train', 'test'], loc='lower right')\n",
        "\n",
        "plt.subplot(2,1,2)\n",
        "plt.plot(history.history['loss'])\n",
        "plt.plot(history.history['val_loss'])\n",
        "plt.title('model loss')\n",
        "plt.ylabel('loss')\n",
        "plt.xlabel('epoch')\n",
        "plt.legend(['train', 'test'], loc='upper right')\n",
        "\n",
        "plt.tight_layout()\n",
        "\n",
        "fig"
      ],
      "execution_count": 11,
      "outputs": [
        {
          "output_type": "stream",
          "text": [
            "Train on 59999 samples, validate on 9999 samples\n",
            "Epoch 1/3\n",
            "59999/59999 [==============================] - 25s 409us/sample - loss: 1.9824 - acc: 0.2920 - val_loss: 1.3961 - val_acc: 0.3801\n",
            "Epoch 2/3\n",
            "59999/59999 [==============================] - 25s 411us/sample - loss: 1.1109 - acc: 0.4988 - val_loss: 0.7896 - val_acc: 0.6628\n",
            "Epoch 3/3\n",
            "59999/59999 [==============================] - 24s 405us/sample - loss: 0.6469 - acc: 0.7311 - val_loss: 0.6471 - val_acc: 0.7560\n"
          ],
          "name": "stdout"
        },
        {
          "output_type": "execute_result",
          "data": {
            "image/png": "[encoded data removed]",
            "text/plain": [
              "<Figure size 432x288 with 2 Axes>"
            ]
          },
          "metadata": {
            "tags": []
          },
          "execution_count": 11
        },
        {
          "output_type": "display_data",
          "data": {
            "image/png": "[encoded data removed]",
            "text/plain": [
              "<Figure size 432x288 with 2 Axes>"
            ]
          },
          "metadata": {
            "tags": []
          }
        }
      ]
    },
    {
      "cell_type": "markdown",
      "metadata": {
        "id": "gmW5fqhfhXPz",
        "colab_type": "text"
      },
      "source": [
        "## 6. Simpan model ke file .h5"
      ]
    },
    {
      "cell_type": "code",
      "metadata": {
        "id": "0PsoMsKUhXPz",
        "colab_type": "code",
        "colab": {
          "base_uri": "https://localhost:8080/",
          "height": 34
        },
        "outputId": "015c6d39-731e-4a38-fb48-1eb59223ffda"
      },
      "source": [
        "from keras.models import model_from_json   \n",
        "# serialize model to JSON\n",
        "model_json = model.to_json()\n",
        "with open(\"model.json\", \"w\") as json_file:\n",
        "    json_file.write(model_json)\n",
        "# serialize weights to HDF5\n",
        "model.save_weights(\"CNN_Model_Arab_Digit.h5\")\n",
        "print(\"Saved model to disk\")"
      ],
      "execution_count": 12,
      "outputs": [
        {
          "output_type": "stream",
          "text": [
            "Saved model to disk\n"
          ],
          "name": "stdout"
        }
      ]
    },
    {
      "cell_type": "code",
      "metadata": {
        "id": "UHu7lQ09hXP2",
        "colab_type": "code",
        "colab": {
          "base_uri": "https://localhost:8080/",
          "height": 70
        },
        "outputId": "8a7bdfd1-055b-444d-b399-c7f52743650c"
      },
      "source": [
        "from keract import get_activations\n",
        "activations = get_activations(model, img.reshape(1,28,28,1), \"layer_1\")"
      ],
      "execution_count": 13,
      "outputs": [
        {
          "output_type": "stream",
          "text": [
            "WARNING:tensorflow:From /usr/local/lib/python3.6/dist-packages/keras/backend/tensorflow_backend.py:422: The name tf.global_variables is deprecated. Please use tf.compat.v1.global_variables instead.\n",
            "\n"
          ],
          "name": "stdout"
        }
      ]
    },
    {
      "cell_type": "code",
      "metadata": {
        "id": "OP47I6f3hXP4",
        "colab_type": "code",
        "colab": {}
      },
      "source": [
        "layer1 = np.array(activations['layer_1/Relu:0'])"
      ],
      "execution_count": 0,
      "outputs": []
    },
    {
      "cell_type": "code",
      "metadata": {
        "id": "nQFrR-TwhXP7",
        "colab_type": "code",
        "colab": {}
      },
      "source": [
        "with h5py.File('CNN_Model_Arab_Digit.h5','r') as hdf:\n",
        "    layer_1_data = np.array(hdf.get('layer_1/layer_1/kernel:0'))\n",
        "    layer_2_data = np.array(hdf.get('layer_2/layer_2/kernel:0'))\n",
        "    layer_3_data = np.array(hdf.get('layer_3/layer_3/kernel:0'))\n",
        "    layer_out_data = np.array(hdf.get('layer_Output/layer_Output/kernel:0'))\n",
        "    "
      ],
      "execution_count": 0,
      "outputs": []
    },
    {
      "cell_type": "code",
      "metadata": {
        "id": "8hoStnu-hXP9",
        "colab_type": "code",
        "colab": {}
      },
      "source": [
        "weights = np.array(model.get_weights())"
      ],
      "execution_count": 0,
      "outputs": []
    },
    {
      "cell_type": "code",
      "metadata": {
        "id": "VwgLyt6yhXP_",
        "colab_type": "code",
        "colab": {
          "base_uri": "https://localhost:8080/",
          "height": 34
        },
        "outputId": "1548d8ac-c38a-4481-ef18-d365e270e63e"
      },
      "source": [
        "weights[2].shape"
      ],
      "execution_count": 18,
      "outputs": [
        {
          "output_type": "execute_result",
          "data": {
            "text/plain": [
              "(400, 10)"
            ]
          },
          "metadata": {
            "tags": []
          },
          "execution_count": 18
        }
      ]
    },
    {
      "cell_type": "code",
      "metadata": {
        "id": "yVQHhwh0hXQB",
        "colab_type": "code",
        "colab": {
          "base_uri": "https://localhost:8080/",
          "height": 34
        },
        "outputId": "abbb24a9-9008-4c80-e9a1-0c307d385299"
      },
      "source": [
        "layer_3_data.shape"
      ],
      "execution_count": 19,
      "outputs": [
        {
          "output_type": "execute_result",
          "data": {
            "text/plain": [
              "(400, 10)"
            ]
          },
          "metadata": {
            "tags": []
          },
          "execution_count": 19
        }
      ]
    },
    {
      "cell_type": "code",
      "metadata": {
        "id": "386-kCu2hXQE",
        "colab_type": "code",
        "colab": {
          "base_uri": "https://localhost:8080/",
          "height": 34
        },
        "outputId": "0643fb2b-8076-49ed-d953-2a3be4cdb2cc"
      },
      "source": [
        "np.array_equal(weights[3],layer_out_data)"
      ],
      "execution_count": 20,
      "outputs": [
        {
          "output_type": "execute_result",
          "data": {
            "text/plain": [
              "True"
            ]
          },
          "metadata": {
            "tags": []
          },
          "execution_count": 20
        }
      ]
    }
  ]
}